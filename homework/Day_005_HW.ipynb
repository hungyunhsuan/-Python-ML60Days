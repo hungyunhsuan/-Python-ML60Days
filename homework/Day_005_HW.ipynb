{
 "cells": [
  {
   "cell_type": "markdown",
   "metadata": {
    "id": "oef8c2jr-PZY"
   },
   "source": [
    "作業目標<br>\n",
    "計算有缺失值的資料，統計量實作<br>\n",
    "作業重點<br>\n",
    "當遇到缺失值有函式可以處理，不須額外寫程式刪除<br>\n",
    "計算統計量時不能出現缺失值"
   ]
  },
  {
   "cell_type": "markdown",
   "metadata": {
    "id": "4YgL8NF4-Ru3"
   },
   "source": [
    "題目:<br>\n",
    "english_score = np.array([55,89,76,65,48,70])<br>\n",
    "math_score = np.array([60,85,60,68,np.nan,60])<br>\n",
    "chinese_score = np.array([65,90,82,72,66,77])<br>\n",
    "上3列共六位同學的英文、數學、國文成績，第一個元素代表第一位同學，舉例第一位同學英文55分、數學60分、國文65分，今天第五位同學因某原因沒來考試，導致數學成績缺值，運用上列數據回答下列問題。<br>\n",
    "1. 請計算各科成績平均、最大值、最小值、標準差，其中數學缺一筆資料可忽略?\n",
    "2. 第五位同學補考數學後成績為55，請計算補考後數學成績平均、最大值、最小值、標準差?\n",
    "3. 用補考後資料找出與國文成績相關係數最高的學科?"
   ]
  },
  {
   "cell_type": "code",
   "execution_count": 22,
   "metadata": {},
   "outputs": [
    {
     "name": "stdout",
     "output_type": "stream",
     "text": [
      "english : 平均67.16666666666667,最大值:89,最小值48,標準差13.433995020924426\n",
      "math : 平均66.6,最大值:85.0,最小值60.0,標準差9.707728879609279\n",
      "chinese : 平均75.33333333333333,最大值:90,最小值65,標準差8.825468196582484\n",
      "math : 平均64.66666666666667,最大值:85.0,最小值55.0,標準差9.860132971832694\n",
      "english\n"
     ]
    }
   ],
   "source": [
    "import numpy as np\n",
    "\n",
    "english_score = np.array([55,89,76,65,48,70])\n",
    "math_score = np.array([60,85,60,68,np.nan,60])\n",
    "chinese_score = np.array([65,90,82,72,66,77])\n",
    "\n",
    "def score_data(subject,score_array) :\n",
    "    avgval = np.nanmean(score_array)\n",
    "    maxval = np.nanmax(score_array)\n",
    "    minval = np.nanmin(score_array)\n",
    "    sdval  = np.nanstd(score_array)\n",
    "    print(f\"{subject} : 平均{avgval},最大值:{maxval},最小值{minval},標準差{sdval}\")\n",
    "    \n",
    "\n",
    "#1. 請計算各科成績平均、最大值、最小值、標準差，其中數學缺一筆資料可忽略?\n",
    "score_data('english',english_score)\n",
    "score_data('math',math_score)\n",
    "score_data('chinese',chinese_score)\n",
    "\n",
    "\n",
    "#2. 第五位同學補考數學後成績為55，請計算補考後數學成績平均、最大值、最小值、標準差?\n",
    "math_score[4] = 55\n",
    "score_data('math',math_score)\n",
    "\n",
    "#3. 用補考後資料找出與國文成績相關係數最高的學科?\n",
    "english  = np.correlate(chinese_score, english_score)\n",
    "math = np.correlate(chinese_score, math_score)\n",
    "\n",
    "if english>math :\n",
    "    print(\"english\")\n",
    "else :\n",
    "    print(\"math\")"
   ]
  }
 ],
 "metadata": {
  "colab": {
   "authorship_tag": "ABX9TyPtywwDR7TsGGEOMGYLDT5h",
   "collapsed_sections": [],
   "name": "作業Hong題目.ipynb",
   "provenance": []
  },
  "kernelspec": {
   "display_name": "Python 3",
   "language": "python",
   "name": "python3"
  },
  "language_info": {
   "codemirror_mode": {
    "name": "ipython",
    "version": 3
   },
   "file_extension": ".py",
   "mimetype": "text/x-python",
   "name": "python",
   "nbconvert_exporter": "python",
   "pygments_lexer": "ipython3",
   "version": "3.8.5"
  }
 },
 "nbformat": 4,
 "nbformat_minor": 1
}
