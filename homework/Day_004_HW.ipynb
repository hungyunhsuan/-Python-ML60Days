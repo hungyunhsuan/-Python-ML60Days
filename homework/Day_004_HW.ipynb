{
 "cells": [
  {
   "cell_type": "code",
   "execution_count": null,
   "metadata": {
    "id": "J8gYBNBr2Ttc"
   },
   "outputs": [],
   "source": []
  },
  {
   "cell_type": "markdown",
   "metadata": {
    "id": "XYM0mQCi2WTY"
   },
   "source": [
    "作業目標<br>\n",
    "熟悉邏輯運算<br>\n",
    "作業重點<br>\n",
    "五大類邏輯函式與其對應的函式操作"
   ]
  },
  {
   "cell_type": "markdown",
   "metadata": {
    "id": "-MPLt0EF2Zto"
   },
   "source": [
    "題目:<br>\n",
    "english_score = np.array([55,89,76,65,48,70])<br>\n",
    "math_score = np.array([60,85,60,68,55,60])<br>\n",
    "chinese_score = np.array([65,90,82,72,66,77])<br>\n",
    "上3列共六位同學的英文、數學、國文成績，第一個元素代表第一位同學，舉例第一位同學英文55分、數學60分、國文65分，運用上列數據回答下列問題。<br>\n",
    "1. 有多少學生英文成績比數學成績高?\n",
    "2. 是否全班同學最高分都是國文?\n",
    "\n",
    "\n"
   ]
  },
  {
   "cell_type": "code",
   "execution_count": 20,
   "metadata": {
    "id": "owy7B7Us2ZEM"
   },
   "outputs": [
    {
     "name": "stdout",
     "output_type": "stream",
     "text": [
      "3\n",
      "True\n"
     ]
    }
   ],
   "source": [
    "import numpy as np\n",
    "\n",
    "english_score = np.array([55,89,76,65,48,70])\n",
    "math_score    = np.array([60,85,60,68,55,60])\n",
    "chinese_score = np.array([65,90,82,72,66,77])\n",
    "\n",
    "#1.有多少學生英文成績比數學成績高?\n",
    "enghighermath =  np.greater(english_score,math_score)\n",
    "#print(enghighermath)\n",
    "count = np.count_nonzero(enghighermath==True)\n",
    "print(count)\n",
    "\n",
    "#2.是否全班同學最高分都是國文?\n",
    "chinesehigherenglish =  np.greater(chinesehigher,english_score)\n",
    "chinesehighermath    =  np.greater(chinesehigher,math_score)\n",
    "\n",
    "chinesehigher = np.array_equal(chinesehigherenglish, chinesehighermath)\n",
    "print(chinesehigher)"
   ]
  },
  {
   "cell_type": "code",
   "execution_count": null,
   "metadata": {},
   "outputs": [],
   "source": []
  }
 ],
 "metadata": {
  "colab": {
   "authorship_tag": "ABX9TyMvnUzt7pnXvEj6Wk0LCRLY",
   "collapsed_sections": [],
   "name": "作業Hong題目.ipynb",
   "provenance": []
  },
  "kernelspec": {
   "display_name": "Python 3",
   "language": "python",
   "name": "python3"
  },
  "language_info": {
   "codemirror_mode": {
    "name": "ipython",
    "version": 3
   },
   "file_extension": ".py",
   "mimetype": "text/x-python",
   "name": "python",
   "nbconvert_exporter": "python",
   "pygments_lexer": "ipython3",
   "version": "3.8.5"
  }
 },
 "nbformat": 4,
 "nbformat_minor": 1
}
